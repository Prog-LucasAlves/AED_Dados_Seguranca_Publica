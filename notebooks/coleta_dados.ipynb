{
 "cells": [
  {
   "cell_type": "code",
   "execution_count": 1,
   "metadata": {},
   "outputs": [],
   "source": [
    "# Bibliotecas utilizadas\n",
    "\n",
    "import pandas as pd\n",
    "\n",
    "import sqlite3"
   ]
  },
  {
   "cell_type": "markdown",
   "metadata": {},
   "source": [
    "### Coletando o arquivo contendo o dicionário de dados."
   ]
  },
  {
   "cell_type": "code",
   "execution_count": 2,
   "metadata": {},
   "outputs": [],
   "source": [
    "path_dict = '../data/dict_dados/'\n",
    "url_dict = 'https://www.ispdados.rj.gov.br/Arquivos/BaseMunic%C3%ADpioMensalDicionarioDeVariaveis.xlsx'\n",
    "\n",
    "dict_dados = pd.read_excel(url_dict)\n",
    "\n",
    "dict_dados.to_csv(f'{path_dict}dictDados.csv')"
   ]
  },
  {
   "cell_type": "markdown",
   "metadata": {},
   "source": [
    "### Coletando o arquivo contendo os dados"
   ]
  },
  {
   "cell_type": "code",
   "execution_count": 3,
   "metadata": {},
   "outputs": [],
   "source": [
    "path_raw =  '../data/raw_dados/'\n",
    "url_raw = 'http://www.ispdados.rj.gov.br/Arquivos/BaseMunicipioMensal.csv'\n",
    "\n",
    "raw_dados = pd.read_csv(url_raw, encoding=\"ISO-8859-1\", engine=\"python\", sep=';')\n",
    "\n",
    "raw_dados.to_csv(f'{path_raw}rawDados.csv', index=False)"
   ]
  },
  {
   "cell_type": "markdown",
   "metadata": {},
   "source": [
    "### Salvando os em um arquivo de formato .db"
   ]
  },
  {
   "cell_type": "code",
   "execution_count": 4,
   "metadata": {},
   "outputs": [
    {
     "data": {
      "text/plain": [
       "10580"
      ]
     },
     "execution_count": 4,
     "metadata": {},
     "output_type": "execute_result"
    }
   ],
   "source": [
    "conn = sqlite3.connect('../data/rawDados.db')\n",
    "\n",
    "raw_dados.to_sql('data', conn, if_exists='replace', index=False)"
   ]
  }
 ],
 "metadata": {
  "kernelspec": {
   "display_name": ".venv",
   "language": "python",
   "name": "python3"
  },
  "language_info": {
   "codemirror_mode": {
    "name": "ipython",
    "version": 3
   },
   "file_extension": ".py",
   "mimetype": "text/x-python",
   "name": "python",
   "nbconvert_exporter": "python",
   "pygments_lexer": "ipython3",
   "version": "3.11.1"
  },
  "orig_nbformat": 4
 },
 "nbformat": 4,
 "nbformat_minor": 2
}
