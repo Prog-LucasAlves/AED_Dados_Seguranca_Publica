{
 "cells": [
  {
   "cell_type": "code",
   "execution_count": 10,
   "id": "2bdb818f",
   "metadata": {},
   "outputs": [],
   "source": [
    "import duckdb\n",
    "import altair as alt"
   ]
  },
  {
   "cell_type": "code",
   "execution_count": 12,
   "id": "1a42eee6",
   "metadata": {},
   "outputs": [],
   "source": [
    "PATH_PARQUET = \"./data/raw_data/GOLDEN/GOLDEN_data.parquet\"\n",
    "TITULO = \"Apreensão de Drogas\"\n",
    "#MUNICIPIO = ​\"Aperibé\"\n"
   ]
  },
  {
   "cell_type": "code",
   "execution_count": 21,
   "id": "51fafc02",
   "metadata": {},
   "outputs": [],
   "source": [
    "TITULODF = duckdb.query(\n",
    "    f\"\"\"SELECT DISTINCT fmun\n",
    "    FROM '{PATH_PARQUET}'\n",
    "    ORDER BY fmun\"\"\"\n",
    ").to_df()"
   ]
  },
  {
   "cell_type": "code",
   "execution_count": 22,
   "id": "0f3aca5d",
   "metadata": {},
   "outputs": [
    {
     "data": {
      "application/vnd.microsoft.datawrangler.viewer.v0+json": {
       "columns": [
        {
         "name": "index",
         "rawType": "int64",
         "type": "integer"
        },
        {
         "name": "fmun",
         "rawType": "object",
         "type": "string"
        }
       ],
       "conversionMethod": "pd.DataFrame",
       "ref": "90055fe9-e988-4a5b-9d8e-1aa69905e073",
       "rows": [
        [
         "0",
         "Angra dos Reis"
        ],
        [
         "1",
         "AperibÃ©"
        ],
        [
         "2",
         "Araruama"
        ],
        [
         "3",
         "Areal"
        ],
        [
         "4",
         "ArmaÃ§Ã£o dos BÃºzios"
        ],
        [
         "5",
         "Arraial do Cabo"
        ],
        [
         "6",
         "Barra Mansa"
        ],
        [
         "7",
         "Barra do PiraÃ­"
        ],
        [
         "8",
         "Belford Roxo"
        ],
        [
         "9",
         "Bom Jardim"
        ],
        [
         "10",
         "Bom Jesus do Itabapoana"
        ],
        [
         "11",
         "Cabo Frio"
        ],
        [
         "12",
         "Cachoeiras de Macacu"
        ],
        [
         "13",
         "Cambuci"
        ],
        [
         "14",
         "Campos dos Goytacazes"
        ],
        [
         "15",
         "Cantagalo"
        ],
        [
         "16",
         "Carapebus"
        ],
        [
         "17",
         "Cardoso Moreira"
        ],
        [
         "18",
         "Carmo"
        ],
        [
         "19",
         "Casimiro de Abreu"
        ],
        [
         "20",
         "Comendador Levy Gasparian"
        ],
        [
         "21",
         "ConceiÃ§Ã£o de Macabu"
        ],
        [
         "22",
         "Cordeiro"
        ],
        [
         "23",
         "Duas Barras"
        ],
        [
         "24",
         "Duque de Caxias"
        ],
        [
         "25",
         "Engenheiro Paulo de Frontin"
        ],
        [
         "26",
         "Guapimirim"
        ],
        [
         "27",
         "Iguaba Grande"
        ],
        [
         "28",
         "ItaboraÃ­"
        ],
        [
         "29",
         "ItaguaÃ­"
        ],
        [
         "30",
         "Italva"
        ],
        [
         "31",
         "Itaocara"
        ],
        [
         "32",
         "Itaperuna"
        ],
        [
         "33",
         "Itatiaia"
        ],
        [
         "34",
         "Japeri"
        ],
        [
         "35",
         "Laje do MuriaÃ©"
        ],
        [
         "36",
         "MacaÃ©"
        ],
        [
         "37",
         "Macuco"
        ],
        [
         "38",
         "MagÃ©"
        ],
        [
         "39",
         "Mangaratiba"
        ],
        [
         "40",
         "MaricÃ¡"
        ],
        [
         "41",
         "Mendes"
        ],
        [
         "42",
         "Mesquita"
        ],
        [
         "43",
         "Miguel Pereira"
        ],
        [
         "44",
         "Miracema"
        ],
        [
         "45",
         "Natividade"
        ],
        [
         "46",
         "NilÃ³polis"
        ],
        [
         "47",
         "NiterÃ³i"
        ],
        [
         "48",
         "Nova Friburgo"
        ],
        [
         "49",
         "Nova IguaÃ§u"
        ]
       ],
       "shape": {
        "columns": 1,
        "rows": 92
       }
      },
      "text/html": [
       "<div>\n",
       "<style scoped>\n",
       "    .dataframe tbody tr th:only-of-type {\n",
       "        vertical-align: middle;\n",
       "    }\n",
       "\n",
       "    .dataframe tbody tr th {\n",
       "        vertical-align: top;\n",
       "    }\n",
       "\n",
       "    .dataframe thead th {\n",
       "        text-align: right;\n",
       "    }\n",
       "</style>\n",
       "<table border=\"1\" class=\"dataframe\">\n",
       "  <thead>\n",
       "    <tr style=\"text-align: right;\">\n",
       "      <th></th>\n",
       "      <th>fmun</th>\n",
       "    </tr>\n",
       "  </thead>\n",
       "  <tbody>\n",
       "    <tr>\n",
       "      <th>0</th>\n",
       "      <td>Angra dos Reis</td>\n",
       "    </tr>\n",
       "    <tr>\n",
       "      <th>1</th>\n",
       "      <td>AperibÃ©</td>\n",
       "    </tr>\n",
       "    <tr>\n",
       "      <th>2</th>\n",
       "      <td>Araruama</td>\n",
       "    </tr>\n",
       "    <tr>\n",
       "      <th>3</th>\n",
       "      <td>Areal</td>\n",
       "    </tr>\n",
       "    <tr>\n",
       "      <th>4</th>\n",
       "      <td>ArmaÃ§Ã£o dos BÃºzios</td>\n",
       "    </tr>\n",
       "    <tr>\n",
       "      <th>...</th>\n",
       "      <td>...</td>\n",
       "    </tr>\n",
       "    <tr>\n",
       "      <th>87</th>\n",
       "      <td>TrÃªs Rios</td>\n",
       "    </tr>\n",
       "    <tr>\n",
       "      <th>88</th>\n",
       "      <td>ValenÃ§a</td>\n",
       "    </tr>\n",
       "    <tr>\n",
       "      <th>89</th>\n",
       "      <td>Varre-Sai</td>\n",
       "    </tr>\n",
       "    <tr>\n",
       "      <th>90</th>\n",
       "      <td>Vassouras</td>\n",
       "    </tr>\n",
       "    <tr>\n",
       "      <th>91</th>\n",
       "      <td>Volta Redonda</td>\n",
       "    </tr>\n",
       "  </tbody>\n",
       "</table>\n",
       "<p>92 rows × 1 columns</p>\n",
       "</div>"
      ],
      "text/plain": [
       "                     fmun\n",
       "0          Angra dos Reis\n",
       "1                AperibÃ©\n",
       "2                Araruama\n",
       "3                   Areal\n",
       "4   ArmaÃ§Ã£o dos BÃºzios\n",
       "..                    ...\n",
       "87             TrÃªs Rios\n",
       "88               ValenÃ§a\n",
       "89              Varre-Sai\n",
       "90              Vassouras\n",
       "91          Volta Redonda\n",
       "\n",
       "[92 rows x 1 columns]"
      ]
     },
     "execution_count": 22,
     "metadata": {},
     "output_type": "execute_result"
    }
   ],
   "source": [
    "TITULODF"
   ]
  },
  {
   "cell_type": "code",
   "execution_count": 31,
   "id": "3d6af818",
   "metadata": {},
   "outputs": [
    {
     "data": {
      "text/html": [
       "\n",
       "<style>\n",
       "  #altair-viz-8fb40899d48744fda314b08e5556dc4c.vega-embed {\n",
       "    width: 100%;\n",
       "    display: flex;\n",
       "  }\n",
       "\n",
       "  #altair-viz-8fb40899d48744fda314b08e5556dc4c.vega-embed details,\n",
       "  #altair-viz-8fb40899d48744fda314b08e5556dc4c.vega-embed details summary {\n",
       "    position: relative;\n",
       "  }\n",
       "</style>\n",
       "<div id=\"altair-viz-8fb40899d48744fda314b08e5556dc4c\"></div>\n",
       "<script type=\"text/javascript\">\n",
       "  var VEGA_DEBUG = (typeof VEGA_DEBUG == \"undefined\") ? {} : VEGA_DEBUG;\n",
       "  (function(spec, embedOpt){\n",
       "    let outputDiv = document.currentScript.previousElementSibling;\n",
       "    if (outputDiv.id !== \"altair-viz-8fb40899d48744fda314b08e5556dc4c\") {\n",
       "      outputDiv = document.getElementById(\"altair-viz-8fb40899d48744fda314b08e5556dc4c\");\n",
       "    }\n",
       "    const paths = {\n",
       "      \"vega\": \"https://cdn.jsdelivr.net/npm/vega@5?noext\",\n",
       "      \"vega-lib\": \"https://cdn.jsdelivr.net/npm/vega-lib?noext\",\n",
       "      \"vega-lite\": \"https://cdn.jsdelivr.net/npm/vega-lite@5.17.0?noext\",\n",
       "      \"vega-embed\": \"https://cdn.jsdelivr.net/npm/vega-embed@6?noext\",\n",
       "    };\n",
       "\n",
       "    function maybeLoadScript(lib, version) {\n",
       "      var key = `${lib.replace(\"-\", \"\")}_version`;\n",
       "      return (VEGA_DEBUG[key] == version) ?\n",
       "        Promise.resolve(paths[lib]) :\n",
       "        new Promise(function(resolve, reject) {\n",
       "          var s = document.createElement('script');\n",
       "          document.getElementsByTagName(\"head\")[0].appendChild(s);\n",
       "          s.async = true;\n",
       "          s.onload = () => {\n",
       "            VEGA_DEBUG[key] = version;\n",
       "            return resolve(paths[lib]);\n",
       "          };\n",
       "          s.onerror = () => reject(`Error loading script: ${paths[lib]}`);\n",
       "          s.src = paths[lib];\n",
       "        });\n",
       "    }\n",
       "\n",
       "    function showError(err) {\n",
       "      outputDiv.innerHTML = `<div class=\"error\" style=\"color:red;\">${err}</div>`;\n",
       "      throw err;\n",
       "    }\n",
       "\n",
       "    function displayChart(vegaEmbed) {\n",
       "      vegaEmbed(outputDiv, spec, embedOpt)\n",
       "        .catch(err => showError(`Javascript Error: ${err.message}<br>This usually means there's a typo in your chart specification. See the javascript console for the full traceback.`));\n",
       "    }\n",
       "\n",
       "    if(typeof define === \"function\" && define.amd) {\n",
       "      requirejs.config({paths});\n",
       "      require([\"vega-embed\"], displayChart, err => showError(`Error loading script: ${err.message}`));\n",
       "    } else {\n",
       "      maybeLoadScript(\"vega\", \"5\")\n",
       "        .then(() => maybeLoadScript(\"vega-lite\", \"5.17.0\"))\n",
       "        .then(() => maybeLoadScript(\"vega-embed\", \"6\"))\n",
       "        .catch(showError)\n",
       "        .then(() => displayChart(vegaEmbed));\n",
       "    }\n",
       "  })({\"config\": {\"view\": {\"continuousWidth\": 300, \"continuousHeight\": 300}}, \"data\": {\"name\": \"data-002297e3f761c023d79905ca376d8522\"}, \"mark\": {\"type\": \"rect\"}, \"encoding\": {\"color\": {\"field\": \"Total\", \"scale\": {\"scheme\": \"greens\"}, \"type\": \"quantitative\"}, \"tooltip\": [{\"field\": \"ano\", \"type\": \"quantitative\"}, {\"field\": \"mes\", \"type\": \"quantitative\"}, {\"field\": \"Total\", \"type\": \"quantitative\"}], \"x\": {\"field\": \"mes\", \"type\": \"ordinal\"}, \"y\": {\"field\": \"ano\", \"type\": \"ordinal\"}}, \"height\": 400, \"width\": 800, \"$schema\": \"https://vega.github.io/schema/vega-lite/v5.17.0.json\", \"datasets\": {\"data-002297e3f761c023d79905ca376d8522\": [{\"mes\": 1, \"ano\": 2014, \"Total\": 3017.0, \"ano_mes\": \"2014-01\"}, {\"mes\": 2, \"ano\": 2014, \"Total\": 2873.0, \"ano_mes\": \"2014-02\"}, {\"mes\": 3, \"ano\": 2014, \"Total\": 2745.0, \"ano_mes\": \"2014-03\"}, {\"mes\": 4, \"ano\": 2014, \"Total\": 2700.0, \"ano_mes\": \"2014-04\"}, {\"mes\": 5, \"ano\": 2014, \"Total\": 2864.0, \"ano_mes\": \"2014-05\"}, {\"mes\": 6, \"ano\": 2014, \"Total\": 2793.0, \"ano_mes\": \"2014-06\"}, {\"mes\": 7, \"ano\": 2014, \"Total\": 3146.0, \"ano_mes\": \"2014-07\"}, {\"mes\": 8, \"ano\": 2014, \"Total\": 2871.0, \"ano_mes\": \"2014-08\"}, {\"mes\": 9, \"ano\": 2014, \"Total\": 3000.0, \"ano_mes\": \"2014-09\"}, {\"mes\": 10, \"ano\": 2014, \"Total\": 3298.0, \"ano_mes\": \"2014-10\"}, {\"mes\": 11, \"ano\": 2014, \"Total\": 2824.0, \"ano_mes\": \"2014-11\"}, {\"mes\": 12, \"ano\": 2014, \"Total\": 2639.0, \"ano_mes\": \"2014-12\"}, {\"mes\": 1, \"ano\": 2015, \"Total\": 3171.0, \"ano_mes\": \"2015-01\"}, {\"mes\": 2, \"ano\": 2015, \"Total\": 2378.0, \"ano_mes\": \"2015-02\"}, {\"mes\": 3, \"ano\": 2015, \"Total\": 3266.0, \"ano_mes\": \"2015-03\"}, {\"mes\": 4, \"ano\": 2015, \"Total\": 2657.0, \"ano_mes\": \"2015-04\"}, {\"mes\": 5, \"ano\": 2015, \"Total\": 3019.0, \"ano_mes\": \"2015-05\"}, {\"mes\": 6, \"ano\": 2015, \"Total\": 2940.0, \"ano_mes\": \"2015-06\"}, {\"mes\": 7, \"ano\": 2015, \"Total\": 3146.0, \"ano_mes\": \"2015-07\"}, {\"mes\": 8, \"ano\": 2015, \"Total\": 2970.0, \"ano_mes\": \"2015-08\"}, {\"mes\": 9, \"ano\": 2015, \"Total\": 2760.0, \"ano_mes\": \"2015-09\"}, {\"mes\": 10, \"ano\": 2015, \"Total\": 2959.0, \"ano_mes\": \"2015-10\"}, {\"mes\": 11, \"ano\": 2015, \"Total\": 3046.0, \"ano_mes\": \"2015-11\"}, {\"mes\": 12, \"ano\": 2015, \"Total\": 3283.0, \"ano_mes\": \"2015-12\"}, {\"mes\": 1, \"ano\": 2016, \"Total\": 3042.0, \"ano_mes\": \"2016-01\"}, {\"mes\": 2, \"ano\": 2016, \"Total\": 2673.0, \"ano_mes\": \"2016-02\"}, {\"mes\": 3, \"ano\": 2016, \"Total\": 3271.0, \"ano_mes\": \"2016-03\"}, {\"mes\": 4, \"ano\": 2016, \"Total\": 2936.0, \"ano_mes\": \"2016-04\"}, {\"mes\": 5, \"ano\": 2016, \"Total\": 3360.0, \"ano_mes\": \"2016-05\"}, {\"mes\": 6, \"ano\": 2016, \"Total\": 3097.0, \"ano_mes\": \"2016-06\"}, {\"mes\": 7, \"ano\": 2016, \"Total\": 3129.0, \"ano_mes\": \"2016-07\"}, {\"mes\": 8, \"ano\": 2016, \"Total\": 3484.0, \"ano_mes\": \"2016-08\"}, {\"mes\": 9, \"ano\": 2016, \"Total\": 3038.0, \"ano_mes\": \"2016-09\"}, {\"mes\": 10, \"ano\": 2016, \"Total\": 3279.0, \"ano_mes\": \"2016-10\"}, {\"mes\": 11, \"ano\": 2016, \"Total\": 2798.0, \"ano_mes\": \"2016-11\"}, {\"mes\": 12, \"ano\": 2016, \"Total\": 2805.0, \"ano_mes\": \"2016-12\"}, {\"mes\": 1, \"ano\": 2017, \"Total\": 1727.0, \"ano_mes\": \"2017-01\"}, {\"mes\": 2, \"ano\": 2017, \"Total\": 717.0, \"ano_mes\": \"2017-02\"}, {\"mes\": 3, \"ano\": 2017, \"Total\": 1996.0, \"ano_mes\": \"2017-03\"}, {\"mes\": 4, \"ano\": 2017, \"Total\": 2616.0, \"ano_mes\": \"2017-04\"}, {\"mes\": 5, \"ano\": 2017, \"Total\": 3059.0, \"ano_mes\": \"2017-05\"}, {\"mes\": 6, \"ano\": 2017, \"Total\": 2782.0, \"ano_mes\": \"2017-06\"}, {\"mes\": 7, \"ano\": 2017, \"Total\": 2836.0, \"ano_mes\": \"2017-07\"}, {\"mes\": 8, \"ano\": 2017, \"Total\": 2988.0, \"ano_mes\": \"2017-08\"}, {\"mes\": 9, \"ano\": 2017, \"Total\": 2729.0, \"ano_mes\": \"2017-09\"}, {\"mes\": 10, \"ano\": 2017, \"Total\": 2960.0, \"ano_mes\": \"2017-10\"}, {\"mes\": 11, \"ano\": 2017, \"Total\": 2669.0, \"ano_mes\": \"2017-11\"}, {\"mes\": 12, \"ano\": 2017, \"Total\": 2393.0, \"ano_mes\": \"2017-12\"}, {\"mes\": 1, \"ano\": 2018, \"Total\": 2815.0, \"ano_mes\": \"2018-01\"}, {\"mes\": 2, \"ano\": 2018, \"Total\": 2137.0, \"ano_mes\": \"2018-02\"}, {\"mes\": 3, \"ano\": 2018, \"Total\": 2654.0, \"ano_mes\": \"2018-03\"}, {\"mes\": 4, \"ano\": 2018, \"Total\": 2659.0, \"ano_mes\": \"2018-04\"}, {\"mes\": 5, \"ano\": 2018, \"Total\": 3159.0, \"ano_mes\": \"2018-05\"}, {\"mes\": 6, \"ano\": 2018, \"Total\": 2885.0, \"ano_mes\": \"2018-06\"}, {\"mes\": 7, \"ano\": 2018, \"Total\": 3226.0, \"ano_mes\": \"2018-07\"}, {\"mes\": 8, \"ano\": 2018, \"Total\": 3615.0, \"ano_mes\": \"2018-08\"}, {\"mes\": 9, \"ano\": 2018, \"Total\": 2809.0, \"ano_mes\": \"2018-09\"}, {\"mes\": 10, \"ano\": 2018, \"Total\": 2959.0, \"ano_mes\": \"2018-10\"}, {\"mes\": 11, \"ano\": 2018, \"Total\": 2879.0, \"ano_mes\": \"2018-11\"}, {\"mes\": 12, \"ano\": 2018, \"Total\": 2696.0, \"ano_mes\": \"2018-12\"}, {\"mes\": 1, \"ano\": 2019, \"Total\": 3125.0, \"ano_mes\": \"2019-01\"}, {\"mes\": 2, \"ano\": 2019, \"Total\": 3089.0, \"ano_mes\": \"2019-02\"}, {\"mes\": 3, \"ano\": 2019, \"Total\": 3004.0, \"ano_mes\": \"2019-03\"}, {\"mes\": 4, \"ano\": 2019, \"Total\": 3260.0, \"ano_mes\": \"2019-04\"}, {\"mes\": 5, \"ano\": 2019, \"Total\": 3498.0, \"ano_mes\": \"2019-05\"}, {\"mes\": 6, \"ano\": 2019, \"Total\": 3029.0, \"ano_mes\": \"2019-06\"}, {\"mes\": 7, \"ano\": 2019, \"Total\": 3628.0, \"ano_mes\": \"2019-07\"}, {\"mes\": 8, \"ano\": 2019, \"Total\": 3546.0, \"ano_mes\": \"2019-08\"}, {\"mes\": 9, \"ano\": 2019, \"Total\": 3344.0, \"ano_mes\": \"2019-09\"}, {\"mes\": 10, \"ano\": 2019, \"Total\": 4182.0, \"ano_mes\": \"2019-10\"}, {\"mes\": 11, \"ano\": 2019, \"Total\": 3903.0, \"ano_mes\": \"2019-11\"}, {\"mes\": 12, \"ano\": 2019, \"Total\": 3645.0, \"ano_mes\": \"2019-12\"}, {\"mes\": 1, \"ano\": 2020, \"Total\": 3950.0, \"ano_mes\": \"2020-01\"}, {\"mes\": 2, \"ano\": 2020, \"Total\": 3547.0, \"ano_mes\": \"2020-02\"}, {\"mes\": 3, \"ano\": 2020, \"Total\": 3086.0, \"ano_mes\": \"2020-03\"}, {\"mes\": 4, \"ano\": 2020, \"Total\": 2594.0, \"ano_mes\": \"2020-04\"}, {\"mes\": 5, \"ano\": 2020, \"Total\": 3572.0, \"ano_mes\": \"2020-05\"}, {\"mes\": 6, \"ano\": 2020, \"Total\": 5210.0, \"ano_mes\": \"2020-06\"}, {\"mes\": 7, \"ano\": 2020, \"Total\": 6058.0, \"ano_mes\": \"2020-07\"}, {\"mes\": 8, \"ano\": 2020, \"Total\": 4592.0, \"ano_mes\": \"2020-08\"}, {\"mes\": 9, \"ano\": 2020, \"Total\": 4086.0, \"ano_mes\": \"2020-09\"}, {\"mes\": 10, \"ano\": 2020, \"Total\": 4593.0, \"ano_mes\": \"2020-10\"}, {\"mes\": 11, \"ano\": 2020, \"Total\": 3723.0, \"ano_mes\": \"2020-11\"}, {\"mes\": 12, \"ano\": 2020, \"Total\": 3541.0, \"ano_mes\": \"2020-12\"}, {\"mes\": 1, \"ano\": 2021, \"Total\": 3905.0, \"ano_mes\": \"2021-01\"}, {\"mes\": 2, \"ano\": 2021, \"Total\": 4185.0, \"ano_mes\": \"2021-02\"}, {\"mes\": 3, \"ano\": 2021, \"Total\": 5306.0, \"ano_mes\": \"2021-03\"}, {\"mes\": 4, \"ano\": 2021, \"Total\": 4861.0, \"ano_mes\": \"2021-04\"}, {\"mes\": 5, \"ano\": 2021, \"Total\": 5532.0, \"ano_mes\": \"2021-05\"}, {\"mes\": 6, \"ano\": 2021, \"Total\": 5514.0, \"ano_mes\": \"2021-06\"}, {\"mes\": 7, \"ano\": 2021, \"Total\": 5691.0, \"ano_mes\": \"2021-07\"}, {\"mes\": 8, \"ano\": 2021, \"Total\": 6412.0, \"ano_mes\": \"2021-08\"}, {\"mes\": 9, \"ano\": 2021, \"Total\": 5956.0, \"ano_mes\": \"2021-09\"}, {\"mes\": 10, \"ano\": 2021, \"Total\": 5557.0, \"ano_mes\": \"2021-10\"}, {\"mes\": 11, \"ano\": 2021, \"Total\": 7379.0, \"ano_mes\": \"2021-11\"}, {\"mes\": 12, \"ano\": 2021, \"Total\": 10847.0, \"ano_mes\": \"2021-12\"}, {\"mes\": 1, \"ano\": 2022, \"Total\": 10271.0, \"ano_mes\": \"2022-01\"}, {\"mes\": 2, \"ano\": 2022, \"Total\": 9742.0, \"ano_mes\": \"2022-02\"}, {\"mes\": 3, \"ano\": 2022, \"Total\": 11079.0, \"ano_mes\": \"2022-03\"}, {\"mes\": 4, \"ano\": 2022, \"Total\": 9905.0, \"ano_mes\": \"2022-04\"}, {\"mes\": 5, \"ano\": 2022, \"Total\": 11243.0, \"ano_mes\": \"2022-05\"}, {\"mes\": 6, \"ano\": 2022, \"Total\": 10420.0, \"ano_mes\": \"2022-06\"}, {\"mes\": 7, \"ano\": 2022, \"Total\": 10526.0, \"ano_mes\": \"2022-07\"}, {\"mes\": 8, \"ano\": 2022, \"Total\": 11560.0, \"ano_mes\": \"2022-08\"}, {\"mes\": 9, \"ano\": 2022, \"Total\": 10450.0, \"ano_mes\": \"2022-09\"}, {\"mes\": 10, \"ano\": 2022, \"Total\": 9221.0, \"ano_mes\": \"2022-10\"}, {\"mes\": 11, \"ano\": 2022, \"Total\": 9403.0, \"ano_mes\": \"2022-11\"}, {\"mes\": 12, \"ano\": 2022, \"Total\": 10021.0, \"ano_mes\": \"2022-12\"}, {\"mes\": 1, \"ano\": 2023, \"Total\": 10876.0, \"ano_mes\": \"2023-01\"}, {\"mes\": 2, \"ano\": 2023, \"Total\": 8518.0, \"ano_mes\": \"2023-02\"}, {\"mes\": 3, \"ano\": 2023, \"Total\": 11161.0, \"ano_mes\": \"2023-03\"}, {\"mes\": 4, \"ano\": 2023, \"Total\": 8938.0, \"ano_mes\": \"2023-04\"}, {\"mes\": 5, \"ano\": 2023, \"Total\": 10117.0, \"ano_mes\": \"2023-05\"}, {\"mes\": 6, \"ano\": 2023, \"Total\": 9186.0, \"ano_mes\": \"2023-06\"}, {\"mes\": 7, \"ano\": 2023, \"Total\": 9483.0, \"ano_mes\": \"2023-07\"}, {\"mes\": 8, \"ano\": 2023, \"Total\": 10247.0, \"ano_mes\": \"2023-08\"}, {\"mes\": 9, \"ano\": 2023, \"Total\": 9133.0, \"ano_mes\": \"2023-09\"}, {\"mes\": 10, \"ano\": 2023, \"Total\": 10160.0, \"ano_mes\": \"2023-10\"}, {\"mes\": 11, \"ano\": 2023, \"Total\": 10935.0, \"ano_mes\": \"2023-11\"}, {\"mes\": 12, \"ano\": 2023, \"Total\": 11464.0, \"ano_mes\": \"2023-12\"}, {\"mes\": 1, \"ano\": 2024, \"Total\": 12155.0, \"ano_mes\": \"2024-01\"}, {\"mes\": 2, \"ano\": 2024, \"Total\": 10820.0, \"ano_mes\": \"2024-02\"}, {\"mes\": 3, \"ano\": 2024, \"Total\": 12005.0, \"ano_mes\": \"2024-03\"}, {\"mes\": 4, \"ano\": 2024, \"Total\": 12555.0, \"ano_mes\": \"2024-04\"}, {\"mes\": 5, \"ano\": 2024, \"Total\": 12930.0, \"ano_mes\": \"2024-05\"}, {\"mes\": 6, \"ano\": 2024, \"Total\": 12611.0, \"ano_mes\": \"2024-06\"}, {\"mes\": 7, \"ano\": 2024, \"Total\": 13032.0, \"ano_mes\": \"2024-07\"}, {\"mes\": 8, \"ano\": 2024, \"Total\": 12854.0, \"ano_mes\": \"2024-08\"}, {\"mes\": 9, \"ano\": 2024, \"Total\": 10926.0, \"ano_mes\": \"2024-09\"}, {\"mes\": 10, \"ano\": 2024, \"Total\": 11701.0, \"ano_mes\": \"2024-10\"}, {\"mes\": 11, \"ano\": 2024, \"Total\": 10998.0, \"ano_mes\": \"2024-11\"}, {\"mes\": 12, \"ano\": 2024, \"Total\": 11531.0, \"ano_mes\": \"2024-12\"}, {\"mes\": 1, \"ano\": 2025, \"Total\": 12143.0, \"ano_mes\": \"2025-01\"}, {\"mes\": 2, \"ano\": 2025, \"Total\": 11836.0, \"ano_mes\": \"2025-02\"}]}}, {\"mode\": \"vega-lite\"});\n",
       "</script>"
      ],
      "text/plain": [
       "alt.Chart(...)"
      ]
     },
     "execution_count": 31,
     "metadata": {},
     "output_type": "execute_result"
    }
   ],
   "source": [
    "chart = alt.Chart(TOTALMESANODF).mark_rect().encode(\n",
    "    x=alt.X('mes:O'),\n",
    "    y=alt.Y('ano:O'),\n",
    "    color=alt.Color('Total:Q', scale=alt.Scale(scheme='greens')),\n",
    "    tooltip=['ano', 'mes', 'Total']\n",
    ").properties(width=800, height=400)\n",
    "\n",
    "chart"
   ]
  },
  {
   "cell_type": "code",
   "execution_count": 34,
   "id": "b8387876",
   "metadata": {},
   "outputs": [],
   "source": [
    "MUNICIPIODFM = duckdb.query(\n",
    "        f\"\"\"SELECT DISTINCT fmun\n",
    "        FROM '{PATH_PARQUET}'\n",
    "        ORDER BY fmun\"\"\"\n",
    "    ).to_df()\n",
    "\n",
    "MUNICIPIODFM['fmun'] = MUNICIPIODFM['fmun'].apply(lambda x: x.encode('latin1').decode('utf-8') if isinstance(x, str) else x)"
   ]
  },
  {
   "cell_type": "code",
   "execution_count": 35,
   "id": "1eac8892",
   "metadata": {},
   "outputs": [
    {
     "data": {
      "application/vnd.microsoft.datawrangler.viewer.v0+json": {
       "columns": [
        {
         "name": "index",
         "rawType": "int64",
         "type": "integer"
        },
        {
         "name": "fmun",
         "rawType": "object",
         "type": "string"
        }
       ],
       "conversionMethod": "pd.DataFrame",
       "ref": "3966ed9b-e44f-4cf3-bb0d-85623c6ea586",
       "rows": [
        [
         "0",
         "Angra dos Reis"
        ],
        [
         "1",
         "Aperibé"
        ],
        [
         "2",
         "Araruama"
        ],
        [
         "3",
         "Areal"
        ],
        [
         "4",
         "Armação dos Búzios"
        ],
        [
         "5",
         "Arraial do Cabo"
        ],
        [
         "6",
         "Barra Mansa"
        ],
        [
         "7",
         "Barra do Piraí"
        ],
        [
         "8",
         "Belford Roxo"
        ],
        [
         "9",
         "Bom Jardim"
        ],
        [
         "10",
         "Bom Jesus do Itabapoana"
        ],
        [
         "11",
         "Cabo Frio"
        ],
        [
         "12",
         "Cachoeiras de Macacu"
        ],
        [
         "13",
         "Cambuci"
        ],
        [
         "14",
         "Campos dos Goytacazes"
        ],
        [
         "15",
         "Cantagalo"
        ],
        [
         "16",
         "Carapebus"
        ],
        [
         "17",
         "Cardoso Moreira"
        ],
        [
         "18",
         "Carmo"
        ],
        [
         "19",
         "Casimiro de Abreu"
        ],
        [
         "20",
         "Comendador Levy Gasparian"
        ],
        [
         "21",
         "Conceição de Macabu"
        ],
        [
         "22",
         "Cordeiro"
        ],
        [
         "23",
         "Duas Barras"
        ],
        [
         "24",
         "Duque de Caxias"
        ],
        [
         "25",
         "Engenheiro Paulo de Frontin"
        ],
        [
         "26",
         "Guapimirim"
        ],
        [
         "27",
         "Iguaba Grande"
        ],
        [
         "28",
         "Itaboraí"
        ],
        [
         "29",
         "Itaguaí"
        ],
        [
         "30",
         "Italva"
        ],
        [
         "31",
         "Itaocara"
        ],
        [
         "32",
         "Itaperuna"
        ],
        [
         "33",
         "Itatiaia"
        ],
        [
         "34",
         "Japeri"
        ],
        [
         "35",
         "Laje do Muriaé"
        ],
        [
         "36",
         "Macaé"
        ],
        [
         "37",
         "Macuco"
        ],
        [
         "38",
         "Magé"
        ],
        [
         "39",
         "Mangaratiba"
        ],
        [
         "40",
         "Maricá"
        ],
        [
         "41",
         "Mendes"
        ],
        [
         "42",
         "Mesquita"
        ],
        [
         "43",
         "Miguel Pereira"
        ],
        [
         "44",
         "Miracema"
        ],
        [
         "45",
         "Natividade"
        ],
        [
         "46",
         "Nilópolis"
        ],
        [
         "47",
         "Niterói"
        ],
        [
         "48",
         "Nova Friburgo"
        ],
        [
         "49",
         "Nova Iguaçu"
        ]
       ],
       "shape": {
        "columns": 1,
        "rows": 92
       }
      },
      "text/html": [
       "<div>\n",
       "<style scoped>\n",
       "    .dataframe tbody tr th:only-of-type {\n",
       "        vertical-align: middle;\n",
       "    }\n",
       "\n",
       "    .dataframe tbody tr th {\n",
       "        vertical-align: top;\n",
       "    }\n",
       "\n",
       "    .dataframe thead th {\n",
       "        text-align: right;\n",
       "    }\n",
       "</style>\n",
       "<table border=\"1\" class=\"dataframe\">\n",
       "  <thead>\n",
       "    <tr style=\"text-align: right;\">\n",
       "      <th></th>\n",
       "      <th>fmun</th>\n",
       "    </tr>\n",
       "  </thead>\n",
       "  <tbody>\n",
       "    <tr>\n",
       "      <th>0</th>\n",
       "      <td>Angra dos Reis</td>\n",
       "    </tr>\n",
       "    <tr>\n",
       "      <th>1</th>\n",
       "      <td>Aperibé</td>\n",
       "    </tr>\n",
       "    <tr>\n",
       "      <th>2</th>\n",
       "      <td>Araruama</td>\n",
       "    </tr>\n",
       "    <tr>\n",
       "      <th>3</th>\n",
       "      <td>Areal</td>\n",
       "    </tr>\n",
       "    <tr>\n",
       "      <th>4</th>\n",
       "      <td>Armação dos Búzios</td>\n",
       "    </tr>\n",
       "    <tr>\n",
       "      <th>...</th>\n",
       "      <td>...</td>\n",
       "    </tr>\n",
       "    <tr>\n",
       "      <th>87</th>\n",
       "      <td>Três Rios</td>\n",
       "    </tr>\n",
       "    <tr>\n",
       "      <th>88</th>\n",
       "      <td>Valença</td>\n",
       "    </tr>\n",
       "    <tr>\n",
       "      <th>89</th>\n",
       "      <td>Varre-Sai</td>\n",
       "    </tr>\n",
       "    <tr>\n",
       "      <th>90</th>\n",
       "      <td>Vassouras</td>\n",
       "    </tr>\n",
       "    <tr>\n",
       "      <th>91</th>\n",
       "      <td>Volta Redonda</td>\n",
       "    </tr>\n",
       "  </tbody>\n",
       "</table>\n",
       "<p>92 rows × 1 columns</p>\n",
       "</div>"
      ],
      "text/plain": [
       "                  fmun\n",
       "0       Angra dos Reis\n",
       "1              Aperibé\n",
       "2             Araruama\n",
       "3                Areal\n",
       "4   Armação dos Búzios\n",
       "..                 ...\n",
       "87           Três Rios\n",
       "88             Valença\n",
       "89           Varre-Sai\n",
       "90           Vassouras\n",
       "91       Volta Redonda\n",
       "\n",
       "[92 rows x 1 columns]"
      ]
     },
     "execution_count": 35,
     "metadata": {},
     "output_type": "execute_result"
    }
   ],
   "source": [
    "MUNICIPIODFM"
   ]
  }
 ],
 "metadata": {
  "kernelspec": {
   "display_name": ".venv",
   "language": "python",
   "name": "python3"
  },
  "language_info": {
   "codemirror_mode": {
    "name": "ipython",
    "version": 3
   },
   "file_extension": ".py",
   "mimetype": "text/x-python",
   "name": "python",
   "nbconvert_exporter": "python",
   "pygments_lexer": "ipython3",
   "version": "3.11.5"
  }
 },
 "nbformat": 4,
 "nbformat_minor": 5
}
